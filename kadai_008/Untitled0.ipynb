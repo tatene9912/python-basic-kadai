{
  "nbformat": 4,
  "nbformat_minor": 0,
  "metadata": {
    "colab": {
      "provenance": []
    },
    "kernelspec": {
      "name": "python3",
      "display_name": "Python 3"
    },
    "language_info": {
      "name": "python"
    }
  },
  "cells": [
    {
      "cell_type": "code",
      "source": [
        "import random\n",
        "var = random.randint(1,21)\n",
        "print(var)\n",
        "if var % 15 == 0:\n",
        "  print('FizzBuzz')\n",
        "elif var % 5 == 0:\n",
        "  print('Buzz')\n",
        "elif var % 3 == 0:\n",
        "  print('Fizz')\n",
        "else:\n",
        "  print(var)"
      ],
      "metadata": {
        "colab": {
          "base_uri": "https://localhost:8080/"
        },
        "id": "bVp9in-nilwp",
        "outputId": "251c6683-8a88-43b2-bdf7-b01cdbc54524"
      },
      "execution_count": 24,
      "outputs": [
        {
          "output_type": "stream",
          "name": "stdout",
          "text": [
            "15\n",
            "FizzBuzz\n"
          ]
        }
      ]
    }
  ]
}