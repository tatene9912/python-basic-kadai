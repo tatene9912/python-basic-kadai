{
  "nbformat": 4,
  "nbformat_minor": 0,
  "metadata": {
    "colab": {
      "provenance": []
    },
    "kernelspec": {
      "name": "python3",
      "display_name": "Python 3"
    },
    "language_info": {
      "name": "python"
    }
  },
  "cells": [
    {
      "cell_type": "code",
      "source": [
        "class Human:\n",
        "  def __init__(self,name,age):\n",
        "    self.name = name\n",
        "    self.age = age\n",
        "  def check_adult(self):\n",
        "    if self.age >= 20:\n",
        "      print(f'{self.name}さんは大人です')\n",
        "    else:\n",
        "      print(f'{self.name}さんは大人ではありません')\n",
        "human1 = Human(\"山田花子\",36)\n",
        "human2 = Human(\"山田太郎\",20)\n",
        "human3 = Human(\"山田次郎\",18)\n",
        "human1.check_adult()\n",
        "human2.check_adult()\n",
        "human3.check_adult()"
      ],
      "metadata": {
        "colab": {
          "base_uri": "https://localhost:8080/"
        },
        "id": "V7wzbFGCMzPe",
        "outputId": "03bd2fa1-d1fc-455a-c145-86399e524e38"
      },
      "execution_count": 9,
      "outputs": [
        {
          "output_type": "stream",
          "name": "stdout",
          "text": [
            "山田花子さんは大人です\n",
            "山田太郎さんは大人です\n",
            "山田次郎さんは大人ではありません\n"
          ]
        }
      ]
    }
  ]
}