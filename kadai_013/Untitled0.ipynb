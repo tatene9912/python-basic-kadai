{
  "nbformat": 4,
  "nbformat_minor": 0,
  "metadata": {
    "colab": {
      "provenance": []
    },
    "kernelspec": {
      "name": "python3",
      "display_name": "Python 3"
    },
    "language_info": {
      "name": "python"
    }
  },
  "cells": [
    {
      "cell_type": "code",
      "source": [
        "def calculate_total(price,tax):\n",
        "  total = price * tax + price\n",
        "  print(total)\n",
        "calculate_total(3650,0.1)"
      ],
      "metadata": {
        "colab": {
          "base_uri": "https://localhost:8080/"
        },
        "id": "JJRcRI3UkTJW",
        "outputId": "9e16ba60-12b4-4420-8da3-d09d3e3b58c3"
      },
      "execution_count": 28,
      "outputs": [
        {
          "output_type": "stream",
          "name": "stdout",
          "text": [
            "4015.0\n"
          ]
        }
      ]
    }
  ]
}